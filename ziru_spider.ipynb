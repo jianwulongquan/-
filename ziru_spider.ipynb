{
 "cells": [
  {
   "cell_type": "code",
   "execution_count": null,
   "metadata": {},
   "outputs": [],
   "source": [
    "import requests\n",
    "import time\n",
    "from lxml import etree\n",
    "from requests.exceptions import RequestException\n",
    "import pandas as pd\n",
    "import matplotlib.pyplot as plt\n",
    "import seaborn as sns\n",
    "import xlrd\n",
    "from PIL import Image\n",
    "import json\n",
    "import pickle\n",
    "import numpy as np\n",
    "import io\n",
    "import os\n",
    "import xlwt\n",
    "import warnings\n",
    "warnings.filterwarnings(\"ignore\")"
   ]
  },
  {
   "cell_type": "code",
   "execution_count": null,
   "metadata": {},
   "outputs": [],
   "source": [
    "#处理图片数字\n",
    "def analyze_img():\n",
    "    response = requests.get('http://static8.ziroom.com/phoenix/pc/images/price/6b8a3fdb72f557032810e060e3cd52b3s.png')\n",
    "    im = Image.open(io.BytesIO(response.content))\n",
    "    im = im.convert('1')      #原图像被转换为黑白图像\n",
    "    num = [2,3,6,4,7,8,9,5,0,1]\n",
    "    num_dict = {}\n",
    "    for i in range(10):\n",
    "        data = im.crop((i*30,0,(i+1)*30,30)).getdata()     #crop() 方法可以从一幅图像中裁剪指定区域，getdata以包含像素值的sequence对象形式返回图像的内容\n",
    "        data = np.matrix(data,dtype='int')/255\n",
    "        num_dict[num[i]] = data\n",
    "    fp =open('num_dict.num','wb')\n",
    "    pickle.dump(num_dict,fp,protocol=1)\n",
    "    fp.close()\n",
    "    return num_dict"
   ]
  },
  {
   "cell_type": "code",
   "execution_count": null,
   "metadata": {},
   "outputs": [],
   "source": [
    "#获取指定url的图片，并解析出图片中的数字\n",
    "def img_ocr(img_url):\n",
    "    response = requests.get(img_url)\n",
    "    im = Image.open(io.BytesIO(response.content))\n",
    "    im = im.convert('1')\n",
    "    fp = open('num_dict.num','rb')\n",
    "    num_dict = pickle.load(fp)\n",
    "    result = []\n",
    "    for i in range(10):\n",
    "        data = im.crop((i*30,0,(i+1)*30,30)).getdata()\n",
    "        data = np.matrix(data,dtype='int')/255\n",
    "        flag = False\n",
    "        for item in num_dict:\n",
    "            if (num_dict[item] == data).all():\n",
    "                flag = True\n",
    "                result.append(item)\n",
    "        if not flag:\n",
    "            result.append(8)\n",
    "    return result"
   ]
  },
  {
   "cell_type": "code",
   "execution_count": null,
   "metadata": {},
   "outputs": [],
   "source": [
    "#获取价格信息\n",
    "def get_room_price(room_id,house_id):\n",
    "    room_price_header = {\n",
    "        \"Accept\": \"text/html,application/xhtml+xml,application/xml;q=0.9,image/webp,image/apng,*/*;q=0.8,application/signed-exchange;v=b3\",\n",
    "        \"Host\": \"www.ziroom.com\",\n",
    "        \"User-Agent\": \"Mozilla/5.0 (Windows NT 6.1; Win64; x64) AppleWebKit/537.36 (KHTML, like Gecko) Chrome/73.0.3683.103 Safari/537.36\",\n",
    "        \"Pragma\": \"no-cache\"\n",
    "    }\n",
    "    price_img_url = \"http://www.ziroom.com/detail/info?id={}&house_id={}\".format(room_id,house_id)\n",
    "    resp = requests.get(price_img_url,headers = room_price_header)\n",
    "    price = json.loads(resp.text)['data']['price']\n",
    "    price_pos = price[2]\n",
    "    num_list = img_ocr('http:'+price[0])\n",
    "    result = \"\"\n",
    "    for i in price_pos:\n",
    "        result += str(num_list[i])\n",
    "    return result"
   ]
  },
  {
   "cell_type": "code",
   "execution_count": null,
   "metadata": {},
   "outputs": [],
   "source": [
    "#获取单页源码\n",
    "def get_one_page(page):\n",
    "    try:\n",
    "        headers = {\n",
    "            'Referer':'http://hz.ziroom.com/',\n",
    "            'Upgrade-Insecure-Requests':'1',\n",
    "            'User-Agent':'Mozilla/5.0(WindowsNT6.3;Win64;x64)AppleWebKit/537.36(KHTML,likeGecko)Chrome/68.0.3440.106Safari/537.36'\n",
    "        }\n",
    "        res = requests.get(page,headers=headers)\n",
    "        if res.status_code == 200:\n",
    "            return(res.text)\n",
    "    except RequestException:\n",
    "        return None"
   ]
  },
  {
   "cell_type": "code",
   "execution_count": null,
   "metadata": {},
   "outputs": [],
   "source": [
    "#解析单个网页\n",
    "def parse_one_page(sourcehtml):\n",
    "    contentTree = etree.HTML(sourcehtml)\n",
    "    results = contentTree.xpath('//ul[@id=\"houseList\"]/li')\n",
    "    for result in results:\n",
    "        #获取出租屋的标题，去掉前缀\n",
    "        title = result.xpath(\"./div/h3/a/text()\")[0][5:] if len(result.xpath(\"./div/h3/a/text()\")[0]) > 5 else \"\"\n",
    "        house = \" \".join(result.xpath(\"./div/div/p[1]/span/text()\")).replace(\" \",\"\",1).split(\" \")\n",
    "        area = house[0]    #获取可使用面积\n",
    "        floor = house[1].split('/')[0]     #获取所在楼层\n",
    "        floors = house[1].split('/')[1].strip('层')      #获取总楼层\n",
    "        chamber = house[2]     #获取几室几厅\n",
    "        #距离最近地铁站的距离有些是空，使用if进行判断\n",
    "        if len(result.xpath(\"./div/div/p[2]/span/text()\")) == 0:\n",
    "            nearby = ''\n",
    "        else:\n",
    "            nearby = result.xpath(\"./div/div/p[2]/span/text()\")[0]\n",
    "        loc_html = \"http:\" + result.xpath(\"./div/h3/a/@href\")[0]    #详情页的地址\n",
    "        page_text = get_one_page(loc_html)    #获取详情页\n",
    "        page_contentTree = etree.HTML(page_text)\n",
    "        loc = page_contentTree.xpath('//div[@class=\"room_name\"]/p/span/text()')[0].strip().split()    #获取所在行政区和区域\n",
    "        district = loc[0]\n",
    "        location = loc[1]\n",
    "        #获取room和house的id，传到get_room_price方法中，以获取出租屋的价格\n",
    "        room_results = page_contentTree.xpath('//div[@class=\"hide\"]/input[4]/@value')[0]\n",
    "        house_results = page_contentTree.xpath('//div[@class=\"hide\"]/input[5]/@value')[0]\n",
    "        time.sleep(1)\n",
    "        price = get_room_price(room_results,house_results)\n",
    "        #将租房信息合并成一个字符串，写入到文件中\n",
    "        data = ','.join([title,area,floor,floors,chamber,nearby,district,location,price]) + '\\n'\n",
    "        write_data(data)"
   ]
  },
  {
   "cell_type": "code",
   "execution_count": null,
   "metadata": {},
   "outputs": [],
   "source": [
    "#获取每个分类起始页面的最大页数\n",
    "def get_pages(url):\n",
    "    html = get_one_page(url)    #获取每个分类的起始网页\n",
    "    time.sleep(0.5)\n",
    "    contentTree = etree.HTML(html)\n",
    "    if 0<len(contentTree.xpath('//div[@class=\"pages\"]/span/text()'))<4:\n",
    "        pages = int(contentTree.xpath('//div[@class=\"pages\"]/span/text()')[0].strip('共页'))\n",
    "        return pages\n",
    "    elif len(contentTree.xpath('//div[@class=\"pages\"]/span/text()')) == 4:\n",
    "        pages = int(contentTree.xpath('//div[@class=\"pages\"]/span/text()')[1].strip('共页'))\n",
    "        return pages\n",
    "    else:\n",
    "        pages = 1  \n",
    "        return pages"
   ]
  },
  {
   "cell_type": "code",
   "execution_count": null,
   "metadata": {},
   "outputs": [],
   "source": [
    "#写入文件函数\n",
    "def write_data(data):\n",
    "    with open('shenzhen_test.txt','a',encoding='utf-8') as f:\n",
    "        f.write(data)"
   ]
  },
  {
   "cell_type": "code",
   "execution_count": null,
   "metadata": {},
   "outputs": [],
   "source": [
    "#当区域的页数超过50页时，进一步通过拆分价格获取完整租房信息\n",
    "def big_page(next_url):\n",
    "    for i in range(0,8001,500):\n",
    "        if i != 8000:\n",
    "            split_url2 = 'http://www.ziroom.com/z/nl/r{}TO{}-z3-{}'.format(i,i+500,next_url)\n",
    "        else:\n",
    "            split_url2 = 'http://www.ziroom.com/z/nl/r{}TO{}-z3-{}'.format(i,i+100000,next_url)\n",
    "        big_pages = get_pages(split_url2)\n",
    "        print(str(i) + '-' + str(i+500) + ':',big_pages)\n",
    "        for page in range(1,big_pages+1):            \n",
    "            real_url = split_url2 + \"?p=\" + str(page)\n",
    "            print(real_url)\n",
    "            sourcehtml = get_one_page(real_url)\n",
    "            parse_one_page(sourcehtml)"
   ]
  },
  {
   "cell_type": "code",
   "execution_count": null,
   "metadata": {},
   "outputs": [],
   "source": [
    "#从起始页开始爬取每个行政区的租房信息\n",
    "def get_original_data():\n",
    "    start_url = 'http://sz.ziroom.com/z/nl/z3.html'\n",
    "    start_text = get_one_page(start_url)\n",
    "    contentTree = etree.HTML(start_text)\n",
    "    results = contentTree.xpath('//ul[@class=\"clearfix filterList\"]/li')\n",
    "    #第一个节点是全部分类\n",
    "    for result in results[1:]:\n",
    "        district = result.xpath('./span/a/text()')[0]\n",
    "        loc_results = result.xpath('./div/span')\n",
    "        for loc_result in loc_results[1:]:\n",
    "            split_url = 'http:' + loc_result.xpath('./a/@href')[0]\n",
    "            pages = get_pages(split_url)\n",
    "            location = loc_result.xpath('./a/text()')[0]\n",
    "            print(pages)\n",
    "            if pages>=50:\n",
    "                next_url = loc_result.xpath('./a/@href')[0].split('-',1)[1]\n",
    "                big_page(next_url)\n",
    "            else:\n",
    "                for page in range(1,pages+1):            \n",
    "                    real_url = split_url + \"?p=\" + str(page)\n",
    "                    print(real_url)\n",
    "                    sourcehtml = get_one_page(real_url)\n",
    "                    parse_one_page(sourcehtml)\n",
    "            print(\"区域 \" + location + \" 采集成功\")           \n",
    "        print(\"-\"*20 + district + \"区采集成功\" + \"-\"*20)"
   ]
  },
  {
   "cell_type": "code",
   "execution_count": null,
   "metadata": {},
   "outputs": [],
   "source": [
    "#对多个网页进行解析\n",
    "def main():\n",
    "    get_original_data()"
   ]
  },
  {
   "cell_type": "code",
   "execution_count": null,
   "metadata": {},
   "outputs": [],
   "source": [
    "if __name__ == '__main__':   \n",
    "    analyze_img()\n",
    "    main()"
   ]
  }
 ],
 "metadata": {
  "kernelspec": {
   "display_name": "Python 3",
   "language": "python",
   "name": "python3"
  },
  "language_info": {
   "codemirror_mode": {
    "name": "ipython",
    "version": 3
   },
   "file_extension": ".py",
   "mimetype": "text/x-python",
   "name": "python",
   "nbconvert_exporter": "python",
   "pygments_lexer": "ipython3",
   "version": "3.7.0"
  }
 },
 "nbformat": 4,
 "nbformat_minor": 2
}
